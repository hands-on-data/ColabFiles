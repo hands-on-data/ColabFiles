{
  "nbformat": 4,
  "nbformat_minor": 0,
  "metadata": {
    "colab": {
      "name": "LinearRegression_Load_Datasets.ipynb",
      "provenance": [],
      "collapsed_sections": []
    },
    "kernelspec": {
      "name": "python3",
      "display_name": "Python 3"
    },
    "language_info": {
      "name": "python"
    }
  },
  "cells": [
    {
      "cell_type": "code",
      "metadata": {
        "id": "7rmSnZmR9Uv8"
      },
      "source": [
        "from google.colab import drive       #This library is used for connecting google drive with colab\n",
        "import pandas as pd                  #This library is imported for data analysis\n",
        "import numpy as np                   #This library is used for working with arrays and performing various linear algebra operations"
      ],
      "execution_count": null,
      "outputs": []
    },
    {
      "cell_type": "code",
      "metadata": {
        "colab": {
          "base_uri": "https://localhost:8080/"
        },
        "id": "bL8zrTsPBHwE",
        "outputId": "55fb60e2-03ed-4023-d56d-8c1b58b54a1f"
      },
      "source": [
        "drive.mount('/content/gdrive')      #This library is used for mounting drive"
      ],
      "execution_count": null,
      "outputs": [
        {
          "output_type": "stream",
          "name": "stdout",
          "text": [
            "Drive already mounted at /content/gdrive; to attempt to forcibly remount, call drive.mount(\"/content/gdrive\", force_remount=True).\n"
          ]
        }
      ]
    },
    {
      "cell_type": "code",
      "metadata": {
        "id": "ECh84_2etZGx"
      },
      "source": [
        "def downloadHousingData():         # This function is used for download the Housing Data; This function has been called from load_Datasets() function\n",
        "  !gdown --id 1xlJ0QiI22OSpbPKPWqTy5QeHP0_-KQUM    # gdown command is used for fast download of files from zip file\n",
        "  import zipfile                                    # This library will deals with extracting zipfiles\n",
        "  with zipfile.ZipFile(\"/content/housing_dataset.zip\",\"r\") as zip_ref:        \n",
        "      zip_ref.extractall(\"/content\")                #Extracting zip file content                            \n",
        "  !cp /content/housing.csv \"gdrive/MyDrive\"         #Saving the extracted content in user's Google Drive.\n",
        "  print(\"Housing Dataset has been succesfully downloaded and saved to your drive.\")"
      ],
      "execution_count": null,
      "outputs": []
    },
    {
      "cell_type": "code",
      "metadata": {
        "id": "n3B9i2sKv5XF"
      },
      "source": [
        "def generateSyntheticData(no_of_samples=1000,no_of_features=4,noise_value=0.5):        # This function is used for generating synthetic data; This function has been called from load_Datasets() function\n",
        "  import sklearn.datasets as datasts                                                  \n",
        "  X,y = datasts.make_regression(n_samples=no_of_samples, n_features=no_of_features, noise=noise_value, random_state=34)  #This function generates synthetic data taking input the \n",
        "                                                                                                                       # no of samples, no of features and the noise value   \n",
        "  data = pd.DataFrame(data = X[0:, 0:],                         #We are creating a dataframe with the generated data numpy array as input                           \n",
        "                        index = ['' + str(i + 1)                # Row headers are being labelled as 1,2,3....  \n",
        "                        for i in range(X.shape[0])],                        \n",
        "                        columns = ['x_' + str(i + 1)            # Column headers are being labelled as x_1,x_2,...  \n",
        "                        for i in range(X.shape[1])])\n",
        "  data['y']=y                                                   # Appending the target variable y to the dataframe \n",
        "  data.to_csv('linear_regression_synthetic_data.csv')           # Converting the dataframe to CSV\n",
        "  !cp /content/linear_regression_synthetic_data.csv \"gdrive/MyDrive\"  #Storing the csv file in google drive\n",
        "  print(\"Synthetic Dataset has been succesfully generated and saved to your drive.\")"
      ],
      "execution_count": null,
      "outputs": []
    },
    {
      "cell_type": "code",
      "metadata": {
        "id": "X3aPvPbAuD-Z"
      },
      "source": [
        "def load_Datasets():                                    #User driven function which provides option to download Housing Dataset and generate Synthetic Data\n",
        "  print(\"Enter 1 to download Housing Dataset\")\n",
        "  print(\"Enter 2 to generate Synthetic Dataset\")\n",
        "  inp = input(\"Enter your choice:\")                    #Taking input from options user\n",
        "  if(inp==\"1\"):                                        #If input taken is 1, then it calls the downloadHousingData() function and downloads the Housing Dataset \n",
        "    downloadHousingData()\n",
        "  elif(inp==\"2\"):                                     #If input taken is 2, then it calls the  generateSyntheticData() function and generatesSynthetic Data \n",
        "    no_of_samples = int(input(\"Enter your the number of data samples:\"))  # Taking input no of data samples from the user\n",
        "    no_of_features = int(input(\"Enter your the number of features:\"))     # Taking input no of features from the user\n",
        "    noise_value = float(input(\"Enter your the noise value:\"))            # Taking input the noise value from user\n",
        "    generateSyntheticData(no_of_samples,no_of_features,noise_value)      # Calling the generateSyntheticData() function"
      ],
      "execution_count": null,
      "outputs": []
    },
    {
      "cell_type": "code",
      "metadata": {
        "colab": {
          "base_uri": "https://localhost:8080/"
        },
        "id": "LDEzANgmugSk",
        "outputId": "557e28b2-3870-4797-f5b8-096a2494424b"
      },
      "source": [
        "load_Datasets()            # Calling the load_Datasets() function"
      ],
      "execution_count": null,
      "outputs": [
        {
          "output_type": "stream",
          "name": "stdout",
          "text": [
            "Enter 1 to download Housing Dataset\n",
            "Enter 2 to generate Synthetic Dataset\n",
            "Enter your choice:1\n",
            "Downloading...\n",
            "From: https://drive.google.com/uc?id=1xlJ0QiI22OSpbPKPWqTy5QeHP0_-KQUM\n",
            "To: /content/housing_dataset.zip\n",
            "100% 409k/409k [00:00<00:00, 6.39MB/s]\n",
            "Housing Dataset has been succesfully downloaded and saved to your drive.\n"
          ]
        }
      ]
    }
  ]
}