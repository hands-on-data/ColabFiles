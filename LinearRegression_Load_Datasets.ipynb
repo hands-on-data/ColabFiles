{
  "nbformat": 4,
  "nbformat_minor": 0,
  "metadata": {
    "colab": {
      "name": "LinearRegression_Load_Datasets.ipynb",
      "provenance": [],
      "collapsed_sections": []
    },
    "kernelspec": {
      "name": "python3",
      "display_name": "Python 3"
    },
    "language_info": {
      "name": "python"
    }
  },
  "cells": [
    {
      "cell_type": "markdown",
      "metadata": {
        "id": "NPpz4Q4wd6cr"
      },
      "source": [
        "#Load Datasets for Linear Regression"
      ]
    },
    {
      "cell_type": "markdown",
      "metadata": {
        "id": "lue5xJWOeCZX"
      },
      "source": [
        "This notebook is used for explaining the steps involved in loading datasets for Linear Regression  \n",
        "\n",
        "1. Import the required libraries\n",
        "2. Connect your google drive with Colab\n",
        "3. Function for downloading Housing Dataset and store in drive \n",
        "\n"
      ]
    },
    {
      "cell_type": "markdown",
      "metadata": {
        "id": "Y8ZIbzJKehgv"
      },
      "source": [
        "## Note:- This notebook should be run first, then you should proceed to the Linear Regression Tutorial notebook given in the website."
      ]
    },
    {
      "cell_type": "markdown",
      "metadata": {
        "id": "KqfTwb1YerqM"
      },
      "source": [
        "## Import the required libraries"
      ]
    },
    {
      "cell_type": "code",
      "metadata": {
        "id": "P1cZJWo6eAGJ"
      },
      "source": [
        "from google.colab import drive       #This library is used for connecting google drive with colab\n",
        "import pandas as pd                  #This library is imported for data analysis\n",
        "import numpy as np                   #This library is used for working with arrays and performing various linear algebra operations"
      ],
      "execution_count": 1,
      "outputs": []
    },
    {
      "cell_type": "markdown",
      "metadata": {
        "id": "IykrR0lMevUo"
      },
      "source": [
        "## Connect your google drive with Colab "
      ]
    },
    {
      "cell_type": "code",
      "metadata": {
        "colab": {
          "base_uri": "https://localhost:8080/"
        },
        "id": "bL8zrTsPBHwE",
        "outputId": "0a905942-2b36-4817-a1be-9bff325e748d"
      },
      "source": [
        "drive.mount('/content/gdrive')      #This library is used for mounting drive"
      ],
      "execution_count": 2,
      "outputs": [
        {
          "output_type": "stream",
          "name": "stdout",
          "text": [
            "Mounted at /content/gdrive\n"
          ]
        }
      ]
    },
    {
      "cell_type": "markdown",
      "metadata": {
        "id": "rT0eEOl-e8bd"
      },
      "source": [
        " ## Function for downloading Housing dataset and store in drive "
      ]
    },
    {
      "cell_type": "code",
      "metadata": {
        "id": "ECh84_2etZGx"
      },
      "source": [
        "def downloadHousingData():         # This function is used for download the Housing Data; This function has been called from load_Datasets() function\n",
        "  !gdown --id 1xlJ0QiI22OSpbPKPWqTy5QeHP0_-KQUM    # gdown command is used for fast download of files from zip file\n",
        "  import zipfile                                    # This library will deals with extracting zipfiles\n",
        "  with zipfile.ZipFile(\"/content/housing_dataset.zip\",\"r\") as zip_ref:        \n",
        "      zip_ref.extractall(\"/content\")                #Extracting zip file content                            \n",
        "  !cp /content/housing.csv \"gdrive/MyDrive\"         #Saving the extracted content in user's Google Drive.\n",
        "  print(\"Housing Dataset has been succesfully downloaded and saved to your drive.\")"
      ],
      "execution_count": 3,
      "outputs": []
    },
    {
      "cell_type": "markdown",
      "metadata": {
        "id": "r4eJwdIafM78"
      },
      "source": [
        "Calling the downloadHousingData() function"
      ]
    },
    {
      "cell_type": "code",
      "metadata": {
        "id": "P7ghOW5drZkg",
        "colab": {
          "base_uri": "https://localhost:8080/"
        },
        "outputId": "89dce069-f59a-41d6-fd89-2aa90fe8dda2"
      },
      "source": [
        "downloadHousingData()           # Calling the downloadHousingData() function"
      ],
      "execution_count": 4,
      "outputs": [
        {
          "output_type": "stream",
          "name": "stdout",
          "text": [
            "Downloading...\n",
            "From: https://drive.google.com/uc?id=1xlJ0QiI22OSpbPKPWqTy5QeHP0_-KQUM\n",
            "To: /content/housing_dataset.zip\n",
            "\r  0% 0.00/409k [00:00<?, ?B/s]\r100% 409k/409k [00:00<00:00, 61.1MB/s]\n",
            "Housing Dataset has been succesfully downloaded and saved to your drive.\n"
          ]
        }
      ]
    },
    {
      "cell_type": "code",
      "metadata": {
        "id": "X3NGMhiZRlAI"
      },
      "source": [
        ""
      ],
      "execution_count": null,
      "outputs": []
    }
  ]
}