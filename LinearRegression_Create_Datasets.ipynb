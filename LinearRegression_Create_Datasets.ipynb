{
  "nbformat": 4,
  "nbformat_minor": 0,
  "metadata": {
    "colab": {
      "name": "LinearRegression_Create_Datasets.ipynb",
      "provenance": [],
      "collapsed_sections": []
    },
    "kernelspec": {
      "name": "python3",
      "display_name": "Python 3"
    },
    "language_info": {
      "name": "python"
    }
  },
  "cells": [
    {
      "cell_type": "markdown",
      "metadata": {
        "id": "yqbz31wVQkhC"
      },
      "source": [
        "This notebook is used for explaining the steps involved in loading datasets for Linear Regression  \n",
        "\n",
        "1. Import the required libraries\n",
        "2. Connect your google drive with Colab\n",
        "3. Function for generating synthetic dataset"
      ]
    },
    {
      "cell_type": "markdown",
      "metadata": {
        "id": "6fZhD1hsRDO1"
      },
      "source": [
        "## Import the required libraries"
      ]
    },
    {
      "cell_type": "code",
      "metadata": {
        "id": "RY6iE-IsAum_"
      },
      "source": [
        "from google.colab import drive       #This library is used for connecting google drive with colab\n",
        "import pandas as pd                  #This library is imported for data analysis\n",
        "import numpy as np                   #This library is used for working with arrays and performing various linear algebra operations"
      ],
      "execution_count": null,
      "outputs": []
    },
    {
      "cell_type": "markdown",
      "metadata": {
        "id": "TCE9dTvxRAqL"
      },
      "source": [
        "## Connect your google drive with Colab \n"
      ]
    },
    {
      "cell_type": "code",
      "metadata": {
        "colab": {
          "base_uri": "https://localhost:8080/"
        },
        "id": "YiSLJDbXB178",
        "outputId": "b6eb2718-c0e2-425a-c53d-835c29eec39d"
      },
      "source": [
        "drive.mount('/content/gdrive')      #This library is used for mounting drive"
      ],
      "execution_count": 2,
      "outputs": [
        {
          "output_type": "stream",
          "name": "stdout",
          "text": [
            "Mounted at /content/gdrive\n"
          ]
        }
      ]
    },
    {
      "cell_type": "markdown",
      "metadata": {
        "id": "VJR8n8tAQ-Hd"
      },
      "source": [
        "## Function for generating synthetic dataset\n"
      ]
    },
    {
      "cell_type": "code",
      "metadata": {
        "id": "IOrkImF5B2QK"
      },
      "source": [
        "def generateSyntheticData(no_of_samples=1000,no_of_features=4,noise_value=0.5):        # This function is used for generating synthetic data; This function has been called from load_Datasets() function\n",
        "  import sklearn.datasets as datasts                                                  \n",
        "  X,y = datasts.make_regression(n_samples=no_of_samples, n_features=no_of_features, noise=noise_value, random_state=34)  #This function generates synthetic data taking input the \n",
        "                                                                                                                       # no of samples, no of features and the noise value   \n",
        "  data = pd.DataFrame(data = X[0:, 0:],                         #We are creating a dataframe with the generated data numpy array as input                           \n",
        "                        index = ['' + str(i + 1)                # Row headers are being labelled as 1,2,3....  \n",
        "                        for i in range(X.shape[0])],                        \n",
        "                        columns = ['x_' + str(i + 1)            # Column headers are being labelled as x_1,x_2,...  \n",
        "                        for i in range(X.shape[1])])\n",
        "  data['y']=y                                                   # Appending the target variable y to the dataframe \n",
        "  data.to_csv('linear_regression_synthetic_data.csv')           # Converting the dataframe to CSV\n",
        "  !cp /content/linear_regression_synthetic_data.csv \"gdrive/MyDrive\"  #Storing the csv file in google drive\n",
        "  print(\"Synthetic Dataset has been succesfully generated and saved to your drive.\")"
      ],
      "execution_count": 4,
      "outputs": []
    },
    {
      "cell_type": "code",
      "metadata": {
        "id": "2RQ-2EHXB2WI"
      },
      "source": [
        "no_of_samples = 1000\n",
        "no_of_features = 4\n",
        "noise_value = 0.5"
      ],
      "execution_count": 3,
      "outputs": []
    },
    {
      "cell_type": "code",
      "metadata": {
        "id": "X3aPvPbAuD-Z"
      },
      "source": [
        "generateSyntheticData(no_of_samples,no_of_features,noise_value)      # Calling the generateSyntheticData() function"
      ],
      "execution_count": null,
      "outputs": []
    }
  ]
}