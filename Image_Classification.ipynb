{
  "cells": [
    {
      "cell_type": "markdown",
      "metadata": {
        "id": "ud1Mgn55_cm0"
      },
      "source": [
        "#Image Classification"
      ]
    },
    {
      "cell_type": "markdown",
      "metadata": {
        "id": "_x-LDfZ3AMVz"
      },
      "source": [
        "This notebook is used for explaining the steps involved in using CNN on CIFAR10 dataset for image classification\n",
        "\n",
        "1. Import the required libraries\n",
        "2. Download the CIFAR10 Dataset\n",
        "3. Data Preprocessing \n",
        "4. Building the model\n",
        "5. Training the model\n",
        "6. Making prediction on a test image\n",
        "7. Evaluating model accuracy"
      ]
    },
    {
      "cell_type": "markdown",
      "metadata": {
        "id": "yanQ92VjAs5u"
      },
      "source": [
        "## Note: Set Runtime to GPU before running the notebook"
      ]
    },
    {
      "cell_type": "markdown",
      "metadata": {
        "id": "rkKsdsN2AmGd"
      },
      "source": [
        "## Import the required libraries"
      ]
    },
    {
      "cell_type": "code",
      "execution_count": 1,
      "metadata": {
        "id": "iNEBIjMI_d_o"
      },
      "outputs": [],
      "source": [
        "import matplotlib.pyplot as plt \n",
        "from tensorflow.keras.datasets import cifar10 \n",
        "import numpy as np\n",
        "import pandas as pd\n",
        "import seaborn as sns \n",
        "import tensorflow as tf"
      ]
    },
    {
      "cell_type": "markdown",
      "metadata": {
        "id": "X5wcT-OmAoNT"
      },
      "source": [
        "##Download the CIFAR10 Dataset"
      ]
    },
    {
      "cell_type": "code",
      "execution_count": 2,
      "metadata": {
        "id": "6XjwZZsMyoMr",
        "colab": {
          "base_uri": "https://localhost:8080/"
        },
        "outputId": "6a0eeea1-4604-443b-a957-c531e0607413"
      },
      "outputs": [
        {
          "output_type": "stream",
          "name": "stdout",
          "text": [
            "Downloading data from https://www.cs.toronto.edu/~kriz/cifar-10-python.tar.gz\n",
            "170500096/170498071 [==============================] - 6s 0us/step\n",
            "170508288/170498071 [==============================] - 6s 0us/step\n"
          ]
        }
      ],
      "source": [
        "(XTrain,YTrain),(XTest,YTest)=cifar10.load_data()"
      ]
    },
    {
      "cell_type": "markdown",
      "source": [
        "#### Displaying the sample image to be used in prediction\n",
        "\n"
      ],
      "metadata": {
        "id": "OCIgKM6XFnGv"
      }
    },
    {
      "cell_type": "code",
      "source": [
        "sample_image = XTest[8]"
      ],
      "metadata": {
        "id": "cpuqiiLaF0ou"
      },
      "execution_count": 3,
      "outputs": []
    },
    {
      "cell_type": "markdown",
      "metadata": {
        "id": "BLTy4uKNAydr"
      },
      "source": [
        "## Data Preprocessing"
      ]
    },
    {
      "cell_type": "code",
      "execution_count": 4,
      "metadata": {
        "id": "BJfhOgr1ys7B"
      },
      "outputs": [],
      "source": [
        "XTrain=XTrain/255.0\n",
        "XTest=XTest/255.0"
      ]
    },
    {
      "cell_type": "markdown",
      "metadata": {
        "id": "4y2sg82PA73d"
      },
      "source": [
        "## Building the model"
      ]
    },
    {
      "cell_type": "code",
      "execution_count": 5,
      "metadata": {
        "colab": {
          "base_uri": "https://localhost:8080/"
        },
        "id": "mhsmKC-_yyMR",
        "outputId": "250a271b-24b2-44ca-d678-307c16ca8e18"
      },
      "outputs": [
        {
          "output_type": "stream",
          "name": "stdout",
          "text": [
            "Model: \"sequential\"\n",
            "_________________________________________________________________\n",
            " Layer (type)                Output Shape              Param #   \n",
            "=================================================================\n",
            " conv2d (Conv2D)             (None, 32, 32, 32)        1568      \n",
            "                                                                 \n",
            " conv2d_1 (Conv2D)           (None, 32, 32, 32)        16416     \n",
            "                                                                 \n",
            " max_pooling2d (MaxPooling2D  (None, 16, 16, 32)       0         \n",
            " )                                                               \n",
            "                                                                 \n",
            " conv2d_2 (Conv2D)           (None, 16, 16, 64)        32832     \n",
            "                                                                 \n",
            " conv2d_3 (Conv2D)           (None, 16, 16, 64)        65600     \n",
            "                                                                 \n",
            " max_pooling2d_1 (MaxPooling  (None, 8, 8, 64)         0         \n",
            " 2D)                                                             \n",
            "                                                                 \n",
            " conv2d_4 (Conv2D)           (None, 8, 8, 32)          32800     \n",
            "                                                                 \n",
            " conv2d_5 (Conv2D)           (None, 8, 8, 32)          16416     \n",
            "                                                                 \n",
            " max_pooling2d_2 (MaxPooling  (None, 4, 4, 32)         0         \n",
            " 2D)                                                             \n",
            "                                                                 \n",
            " flatten (Flatten)           (None, 512)               0         \n",
            "                                                                 \n",
            " dropout (Dropout)           (None, 512)               0         \n",
            "                                                                 \n",
            " dense (Dense)               (None, 128)               65664     \n",
            "                                                                 \n",
            " dense_1 (Dense)             (None, 10)                1290      \n",
            "                                                                 \n",
            "=================================================================\n",
            "Total params: 232,586\n",
            "Trainable params: 232,586\n",
            "Non-trainable params: 0\n",
            "_________________________________________________________________\n"
          ]
        }
      ],
      "source": [
        "model_CNN=tf.keras.models.Sequential()\n",
        "model_CNN.add(tf.keras.layers.Conv2D(filters=32,kernel_size=4,padding=\"same\", activation=\"relu\", input_shape=[32,32,3]))\n",
        "model_CNN.add(tf.keras.layers.Conv2D(filters=32,kernel_size=4,padding=\"same\", activation=\"relu\"))\n",
        "model_CNN.add(tf.keras.layers.MaxPool2D(pool_size=2,strides=2,padding='valid'))\n",
        "\n",
        "model_CNN.add(tf.keras.layers.Conv2D(filters=64,kernel_size=4,padding=\"same\", activation=\"relu\"))\n",
        "model_CNN.add(tf.keras.layers.Conv2D(filters=64,kernel_size=4,padding=\"same\", activation=\"relu\"))\n",
        "model_CNN.add(tf.keras.layers.MaxPool2D(pool_size=2,strides=2,padding='valid'))\n",
        "\n",
        "model_CNN.add(tf.keras.layers.Conv2D(filters=32,kernel_size=4,padding=\"same\", activation=\"relu\"))\n",
        "model_CNN.add(tf.keras.layers.Conv2D(filters=32,kernel_size=4,padding=\"same\", activation=\"relu\"))\n",
        "model_CNN.add(tf.keras.layers.MaxPool2D(pool_size=2,strides=2,padding='valid'))\n",
        "\n",
        "model_CNN.add(tf.keras.layers.Flatten())\n",
        "model_CNN.add(tf.keras.layers.Dropout(0.4,noise_shape=None,seed=None))\n",
        "model_CNN.add(tf.keras.layers.Dense(units=128,activation='relu'))\n",
        "model_CNN.add(tf.keras.layers.Dense(units=10,activation='softmax'))\n",
        "model_CNN.summary()\n"
      ]
    },
    {
      "cell_type": "code",
      "execution_count": 6,
      "metadata": {
        "id": "-YKv43rly6PZ"
      },
      "outputs": [],
      "source": [
        "model_CNN.compile(loss=\"sparse_categorical_crossentropy\", optimizer=\"Adam\", metrics=[\"sparse_categorical_accuracy\"])"
      ]
    },
    {
      "cell_type": "markdown",
      "metadata": {
        "id": "3rwtRo2OA_Aq"
      },
      "source": [
        "## Training the model"
      ]
    },
    {
      "cell_type": "code",
      "execution_count": 7,
      "metadata": {
        "colab": {
          "base_uri": "https://localhost:8080/"
        },
        "id": "6PM6O7jIzivt",
        "outputId": "69339f06-6091-4e2c-d0eb-258ec410171d"
      },
      "outputs": [
        {
          "output_type": "stream",
          "name": "stdout",
          "text": [
            "Epoch 1/6\n",
            "1563/1563 [==============================] - 35s 16ms/step - loss: 1.6836 - sparse_categorical_accuracy: 0.3731\n",
            "Epoch 2/6\n",
            "1563/1563 [==============================] - 25s 16ms/step - loss: 1.2726 - sparse_categorical_accuracy: 0.5381\n",
            "Epoch 3/6\n",
            "1563/1563 [==============================] - 25s 16ms/step - loss: 1.0833 - sparse_categorical_accuracy: 0.6121\n",
            "Epoch 4/6\n",
            "1563/1563 [==============================] - 25s 16ms/step - loss: 0.9730 - sparse_categorical_accuracy: 0.6552\n",
            "Epoch 5/6\n",
            "1563/1563 [==============================] - 25s 16ms/step - loss: 0.8959 - sparse_categorical_accuracy: 0.6830\n",
            "Epoch 6/6\n",
            "1563/1563 [==============================] - 25s 16ms/step - loss: 0.8292 - sparse_categorical_accuracy: 0.7052\n"
          ]
        },
        {
          "output_type": "execute_result",
          "data": {
            "text/plain": [
              "<keras.callbacks.History at 0x7faf33287cd0>"
            ]
          },
          "metadata": {},
          "execution_count": 7
        }
      ],
      "source": [
        "model_CNN.fit(XTrain,YTrain,epochs=6)"
      ]
    },
    {
      "cell_type": "markdown",
      "metadata": {
        "id": "3RNrPLHiBE-N"
      },
      "source": [
        "## Making prediction on a test image"
      ]
    },
    {
      "cell_type": "markdown",
      "metadata": {
        "id": "H6-UO_-iBjHE"
      },
      "source": [
        "#### Displaying the sample image to be used in prediction"
      ]
    },
    {
      "cell_type": "code",
      "execution_count": 8,
      "metadata": {
        "colab": {
          "base_uri": "https://localhost:8080/",
          "height": 283
        },
        "id": "OuniDNPp7OSg",
        "outputId": "b5fee1d6-966a-4e9f-d734-d920dd22f808"
      },
      "outputs": [
        {
          "output_type": "execute_result",
          "data": {
            "text/plain": [
              "<matplotlib.image.AxesImage at 0x7fae36100fd0>"
            ]
          },
          "metadata": {},
          "execution_count": 8
        },
        {
          "output_type": "display_data",
          "data": {
            "text/plain": [
              "<Figure size 432x288 with 1 Axes>"
            ],
            "image/png": "[encoded data removed]"
          },
          "metadata": {
            "needs_background": "light"
          }
        }
      ],
      "source": [
        "plt.imshow(sample_image)"
      ]
    },
    {
      "cell_type": "code",
      "source": [
        "sample_image = sample_image/255.0"
      ],
      "metadata": {
        "id": "QDp_-vsKGpfo"
      },
      "execution_count": 9,
      "outputs": []
    },
    {
      "cell_type": "code",
      "execution_count": 10,
      "metadata": {
        "id": "_o_bsNQt3_vV"
      },
      "outputs": [],
      "source": [
        "reshaped_image = sample_image.reshape(1,32,32,3)"
      ]
    },
    {
      "cell_type": "code",
      "execution_count": 11,
      "metadata": {
        "id": "N0zvDEaY1Wpl"
      },
      "outputs": [],
      "source": [
        "predicted_array = model_CNN.predict(reshaped_image)"
      ]
    },
    {
      "cell_type": "code",
      "execution_count": 12,
      "metadata": {
        "id": "D4T8VAAA9d9j"
      },
      "outputs": [],
      "source": [
        "predicted_array=list(predicted_array)"
      ]
    },
    {
      "cell_type": "code",
      "execution_count": 13,
      "metadata": {
        "id": "C6zAAnvF8RkH"
      },
      "outputs": [],
      "source": [
        "predicted_array = predicted_array[0]"
      ]
    },
    {
      "cell_type": "code",
      "execution_count": 14,
      "metadata": {
        "id": "W7ej9UZN-H3L"
      },
      "outputs": [],
      "source": [
        "classes=['airplane','automobile','bird','cat','deer','dog','frog','horse','ship','truck']"
      ]
    },
    {
      "cell_type": "code",
      "execution_count": 15,
      "metadata": {
        "colab": {
          "base_uri": "https://localhost:8080/"
        },
        "id": "sHxUS_RS_EJB",
        "outputId": "1fa81b17-c937-4ee8-c94a-63a0c7409e74"
      },
      "outputs": [
        {
          "output_type": "execute_result",
          "data": {
            "text/plain": [
              "array([3.4702767e-03, 4.6377154e-05, 3.3793011e-01, 3.0255142e-01,\n",
              "       1.5547182e-01, 1.4919835e-01, 3.2779120e-02, 1.8176107e-02,\n",
              "       2.3023113e-04, 1.4618773e-04], dtype=float32)"
            ]
          },
          "metadata": {},
          "execution_count": 15
        }
      ],
      "source": [
        "predicted_array"
      ]
    },
    {
      "cell_type": "code",
      "execution_count": 16,
      "metadata": {
        "id": "fx0vWTNr4_2U"
      },
      "outputs": [],
      "source": [
        "mx = 0.0\n",
        "mx_id = 0\n",
        "for i in range(10):\n",
        "  if predicted_array[i]>mx:\n",
        "    mx_id = i\n",
        "    mx = predicted_array[i]"
      ]
    },
    {
      "cell_type": "markdown",
      "metadata": {
        "id": "mP9iCtZrBccP"
      },
      "source": [
        "#### Printing the class predicted by model"
      ]
    },
    {
      "cell_type": "code",
      "execution_count": 17,
      "metadata": {
        "colab": {
          "base_uri": "https://localhost:8080/",
          "height": 35
        },
        "id": "p-PchUZK_PI9",
        "outputId": "031b9c29-a043-475f-9675-9c3610a44397"
      },
      "outputs": [
        {
          "output_type": "execute_result",
          "data": {
            "text/plain": [
              "'bird'"
            ],
            "application/vnd.google.colaboratory.intrinsic+json": {
              "type": "string"
            }
          },
          "metadata": {},
          "execution_count": 17
        }
      ],
      "source": [
        "classes[mx_id]      "
      ]
    },
    {
      "cell_type": "markdown",
      "metadata": {
        "id": "9DakGGgTBM3z"
      },
      "source": [
        "## Evaluating model accuracy"
      ]
    },
    {
      "cell_type": "code",
      "execution_count": 18,
      "metadata": {
        "colab": {
          "base_uri": "https://localhost:8080/"
        },
        "id": "UasnR7j0zn5t",
        "outputId": "11a6d98f-74de-4cbc-f862-5b4c882edfe9"
      },
      "outputs": [
        {
          "output_type": "stream",
          "name": "stdout",
          "text": [
            "313/313 [==============================] - 3s 9ms/step - loss: 0.8890 - sparse_categorical_accuracy: 0.6916\n"
          ]
        }
      ],
      "source": [
        "test_accuracy = model_CNN.evaluate(XTest, YTest)"
      ]
    },
    {
      "cell_type": "code",
      "execution_count": 18,
      "metadata": {
        "id": "Iepy1zlvB22Z"
      },
      "outputs": [],
      "source": [
        ""
      ]
    }
  ],
  "metadata": {
    "accelerator": "GPU",
    "colab": {
      "collapsed_sections": [],
      "name": "Image_Classification.ipynb",
      "provenance": []
    },
    "kernelspec": {
      "display_name": "Python 3",
      "name": "python3"
    },
    "language_info": {
      "name": "python"
    }
  },
  "nbformat": 4,
  "nbformat_minor": 0
}