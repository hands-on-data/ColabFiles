{
  "nbformat": 4,
  "nbformat_minor": 0,
  "metadata": {
    "colab": {
      "name": "CNN_Image_Classification.ipynb",
      "provenance": [],
      "collapsed_sections": []
    },
    "kernelspec": {
      "name": "python3",
      "display_name": "Python 3"
    },
    "language_info": {
      "name": "python"
    },
    "accelerator": "GPU"
  },
  "cells": [
    {
      "cell_type": "markdown",
      "source": [
        "#CNN Image Classification"
      ],
      "metadata": {
        "id": "ud1Mgn55_cm0"
      }
    },
    {
      "cell_type": "markdown",
      "source": [
        "This notebook is used for explaining the steps involved in using CNN on CIFAR10 dataset\n",
        "\n",
        "1. Import the required libraries\n",
        "2. Download the CIFAR10 Dataset\n",
        "3. Data Preprocessing \n",
        "4. Building the model\n",
        "5. Training the model\n",
        "6. Making prediction on a test image\n",
        "7. Evaluating model accuracy"
      ],
      "metadata": {
        "id": "_x-LDfZ3AMVz"
      }
    },
    {
      "cell_type": "markdown",
      "source": [
        "## Note: Set Runtime to GPU before running the notebook"
      ],
      "metadata": {
        "id": "yanQ92VjAs5u"
      }
    },
    {
      "cell_type": "markdown",
      "source": [
        "## Import the required libraries"
      ],
      "metadata": {
        "id": "rkKsdsN2AmGd"
      }
    },
    {
      "cell_type": "code",
      "source": [
        "import matplotlib.pyplot as plt \n",
        "from tensorflow.keras.datasets import cifar10 \n",
        "import numpy as np\n",
        "import pandas as pd\n",
        "import seaborn as sns \n",
        "import tensorflow as tf"
      ],
      "metadata": {
        "id": "iNEBIjMI_d_o"
      },
      "execution_count": 96,
      "outputs": []
    },
    {
      "cell_type": "markdown",
      "source": [
        "##Download the CIFAR10 Dataset"
      ],
      "metadata": {
        "id": "X5wcT-OmAoNT"
      }
    },
    {
      "cell_type": "code",
      "source": [
        "(x_train,y_train),(x_test,y_test)=cifar10.load_data()"
      ],
      "metadata": {
        "id": "6XjwZZsMyoMr"
      },
      "execution_count": 97,
      "outputs": []
    },
    {
      "cell_type": "markdown",
      "source": [
        "## Data Preprocessing"
      ],
      "metadata": {
        "id": "BLTy4uKNAydr"
      }
    },
    {
      "cell_type": "code",
      "source": [
        "x_train=x_train/255.0\n",
        "x_test=x_test/255.0"
      ],
      "metadata": {
        "id": "BJfhOgr1ys7B"
      },
      "execution_count": 98,
      "outputs": []
    },
    {
      "cell_type": "markdown",
      "source": [
        "## Building the model"
      ],
      "metadata": {
        "id": "4y2sg82PA73d"
      }
    },
    {
      "cell_type": "code",
      "source": [
        "model_CNN=tf.keras.models.Sequential()\n",
        "model_CNN.add(tf.keras.layers.Conv2D(filters=32,kernel_size=4,padding=\"same\", activation=\"relu\", input_shape=[32,32,3]))\n",
        "model_CNN.add(tf.keras.layers.Conv2D(filters=32,kernel_size=4,padding=\"same\", activation=\"relu\"))\n",
        "model_CNN.add(tf.keras.layers.MaxPool2D(pool_size=2,strides=2,padding='valid'))\n",
        "\n",
        "model_CNN.add(tf.keras.layers.Conv2D(filters=64,kernel_size=4,padding=\"same\", activation=\"relu\"))\n",
        "model_CNN.add(tf.keras.layers.Conv2D(filters=64,kernel_size=4,padding=\"same\", activation=\"relu\"))\n",
        "model_CNN.add(tf.keras.layers.MaxPool2D(pool_size=2,strides=2,padding='valid'))\n",
        "\n",
        "model_CNN.add(tf.keras.layers.Conv2D(filters=32,kernel_size=4,padding=\"same\", activation=\"relu\"))\n",
        "model_CNN.add(tf.keras.layers.Conv2D(filters=32,kernel_size=4,padding=\"same\", activation=\"relu\"))\n",
        "model_CNN.add(tf.keras.layers.MaxPool2D(pool_size=2,strides=2,padding='valid'))\n",
        "\n",
        "model_CNN.add(tf.keras.layers.Flatten())\n",
        "model_CNN.add(tf.keras.layers.Dropout(0.4,noise_shape=None,seed=None))\n",
        "model_CNN.add(tf.keras.layers.Dense(units=128,activation='relu'))\n",
        "model_CNN.add(tf.keras.layers.Dense(units=10,activation='softmax'))\n",
        "model_CNN.summary()\n"
      ],
      "metadata": {
        "colab": {
          "base_uri": "https://localhost:8080/"
        },
        "id": "mhsmKC-_yyMR",
        "outputId": "828e8744-5e0e-4df9-b18d-cfe48d6da0e7"
      },
      "execution_count": 99,
      "outputs": [
        {
          "output_type": "stream",
          "name": "stdout",
          "text": [
            "Model: \"sequential_3\"\n",
            "_________________________________________________________________\n",
            " Layer (type)                Output Shape              Param #   \n",
            "=================================================================\n",
            " conv2d_16 (Conv2D)          (None, 32, 32, 32)        1568      \n",
            "                                                                 \n",
            " conv2d_17 (Conv2D)          (None, 32, 32, 32)        16416     \n",
            "                                                                 \n",
            " max_pooling2d_8 (MaxPooling  (None, 16, 16, 32)       0         \n",
            " 2D)                                                             \n",
            "                                                                 \n",
            " conv2d_18 (Conv2D)          (None, 16, 16, 64)        32832     \n",
            "                                                                 \n",
            " conv2d_19 (Conv2D)          (None, 16, 16, 64)        65600     \n",
            "                                                                 \n",
            " max_pooling2d_9 (MaxPooling  (None, 8, 8, 64)         0         \n",
            " 2D)                                                             \n",
            "                                                                 \n",
            " conv2d_20 (Conv2D)          (None, 8, 8, 32)          32800     \n",
            "                                                                 \n",
            " conv2d_21 (Conv2D)          (None, 8, 8, 32)          16416     \n",
            "                                                                 \n",
            " max_pooling2d_10 (MaxPoolin  (None, 4, 4, 32)         0         \n",
            " g2D)                                                            \n",
            "                                                                 \n",
            " flatten_3 (Flatten)         (None, 512)               0         \n",
            "                                                                 \n",
            " dropout_3 (Dropout)         (None, 512)               0         \n",
            "                                                                 \n",
            " dense_6 (Dense)             (None, 128)               65664     \n",
            "                                                                 \n",
            " dense_7 (Dense)             (None, 10)                1290      \n",
            "                                                                 \n",
            "=================================================================\n",
            "Total params: 232,586\n",
            "Trainable params: 232,586\n",
            "Non-trainable params: 0\n",
            "_________________________________________________________________\n"
          ]
        }
      ]
    },
    {
      "cell_type": "code",
      "source": [
        "model_CNN.compile(loss=\"sparse_categorical_crossentropy\", optimizer=\"Adam\", metrics=[\"sparse_categorical_accuracy\"])"
      ],
      "metadata": {
        "id": "-YKv43rly6PZ"
      },
      "execution_count": 100,
      "outputs": []
    },
    {
      "cell_type": "markdown",
      "source": [
        "## Training the model"
      ],
      "metadata": {
        "id": "3rwtRo2OA_Aq"
      }
    },
    {
      "cell_type": "code",
      "source": [
        "model_CNN.fit(x_train,y_train,epochs=6)"
      ],
      "metadata": {
        "colab": {
          "base_uri": "https://localhost:8080/"
        },
        "id": "6PM6O7jIzivt",
        "outputId": "04a07e58-ad6b-425f-9dc6-7cb5fd5a886d"
      },
      "execution_count": 101,
      "outputs": [
        {
          "output_type": "stream",
          "name": "stdout",
          "text": [
            "Epoch 1/6\n",
            "1563/1563 [==============================] - 26s 16ms/step - loss: 1.7126 - sparse_categorical_accuracy: 0.3618\n",
            "Epoch 2/6\n",
            "1563/1563 [==============================] - 25s 16ms/step - loss: 1.2319 - sparse_categorical_accuracy: 0.5507\n",
            "Epoch 3/6\n",
            "1563/1563 [==============================] - 25s 16ms/step - loss: 1.0531 - sparse_categorical_accuracy: 0.6231\n",
            "Epoch 4/6\n",
            "1563/1563 [==============================] - 25s 16ms/step - loss: 0.9376 - sparse_categorical_accuracy: 0.6666\n",
            "Epoch 5/6\n",
            "1563/1563 [==============================] - 25s 16ms/step - loss: 0.8625 - sparse_categorical_accuracy: 0.6979\n",
            "Epoch 6/6\n",
            "1563/1563 [==============================] - 25s 16ms/step - loss: 0.7985 - sparse_categorical_accuracy: 0.7189\n"
          ]
        },
        {
          "output_type": "execute_result",
          "data": {
            "text/plain": [
              "<keras.callbacks.History at 0x7f70e4b42550>"
            ]
          },
          "metadata": {},
          "execution_count": 101
        }
      ]
    },
    {
      "cell_type": "markdown",
      "source": [
        "## Making prediction on a test image"
      ],
      "metadata": {
        "id": "3RNrPLHiBE-N"
      }
    },
    {
      "cell_type": "code",
      "source": [
        "sample_image = x_test[8]"
      ],
      "metadata": {
        "id": "ylCW3nDa2zX9"
      },
      "execution_count": 102,
      "outputs": []
    },
    {
      "cell_type": "markdown",
      "source": [
        "#### Displaying the sample image to be used in prediction"
      ],
      "metadata": {
        "id": "H6-UO_-iBjHE"
      }
    },
    {
      "cell_type": "code",
      "source": [
        "plt.imshow(sample_image)"
      ],
      "metadata": {
        "colab": {
          "base_uri": "https://localhost:8080/",
          "height": 283
        },
        "id": "OuniDNPp7OSg",
        "outputId": "d041c903-8385-4411-e60f-d70b9639e548"
      },
      "execution_count": 103,
      "outputs": [
        {
          "output_type": "execute_result",
          "data": {
            "text/plain": [
              "<matplotlib.image.AxesImage at 0x7f7070c52310>"
            ]
          },
          "metadata": {},
          "execution_count": 103
        },
        {
          "output_type": "display_data",
          "data": {
            "text/plain": [
              "<Figure size 432x288 with 1 Axes>"
            ],
            "image/png": "[encoded data removed]"
          },
          "metadata": {
            "needs_background": "light"
          }
        }
      ]
    },
    {
      "cell_type": "code",
      "source": [
        "reshaped_image = sample_image.reshape(1,32,32,3)"
      ],
      "metadata": {
        "id": "_o_bsNQt3_vV"
      },
      "execution_count": 104,
      "outputs": []
    },
    {
      "cell_type": "code",
      "source": [
        "predicted_array = model_CNN.predict(reshaped_image)"
      ],
      "metadata": {
        "id": "N0zvDEaY1Wpl"
      },
      "execution_count": 105,
      "outputs": []
    },
    {
      "cell_type": "code",
      "source": [
        "predicted_array=list(predicted_array)"
      ],
      "metadata": {
        "id": "D4T8VAAA9d9j"
      },
      "execution_count": 106,
      "outputs": []
    },
    {
      "cell_type": "code",
      "source": [
        "predicted_array = predicted_array[0]"
      ],
      "metadata": {
        "id": "C6zAAnvF8RkH"
      },
      "execution_count": 107,
      "outputs": []
    },
    {
      "cell_type": "code",
      "source": [
        "classes=['airplane','automobile','bird','cat','deer','dog','frog','horse','ship','truck']"
      ],
      "metadata": {
        "id": "W7ej9UZN-H3L"
      },
      "execution_count": 108,
      "outputs": []
    },
    {
      "cell_type": "code",
      "source": [
        "predicted_array"
      ],
      "metadata": {
        "colab": {
          "base_uri": "https://localhost:8080/"
        },
        "id": "sHxUS_RS_EJB",
        "outputId": "b513a623-a0d7-40e1-9507-55ea55ec931e"
      },
      "execution_count": 109,
      "outputs": [
        {
          "output_type": "execute_result",
          "data": {
            "text/plain": [
              "array([2.2390070e-03, 9.4186449e-05, 9.7876839e-02, 4.0205160e-01,\n",
              "       1.5113062e-01, 2.3923130e-01, 1.2527710e-02, 9.3877845e-02,\n",
              "       4.7305465e-04, 4.9785728e-04], dtype=float32)"
            ]
          },
          "metadata": {},
          "execution_count": 109
        }
      ]
    },
    {
      "cell_type": "code",
      "source": [
        "mx = 0.0\n",
        "mx_id = 0\n",
        "for i in range(10):\n",
        "  if predicted_array[i]>mx:\n",
        "    mx_id = i\n",
        "    mx = predicted_array[i]"
      ],
      "metadata": {
        "id": "fx0vWTNr4_2U"
      },
      "execution_count": 110,
      "outputs": []
    },
    {
      "cell_type": "markdown",
      "source": [
        "#### Printing the class predicted by model"
      ],
      "metadata": {
        "id": "mP9iCtZrBccP"
      }
    },
    {
      "cell_type": "code",
      "source": [
        "classes[mx_id]      "
      ],
      "metadata": {
        "colab": {
          "base_uri": "https://localhost:8080/",
          "height": 35
        },
        "id": "p-PchUZK_PI9",
        "outputId": "41f30b50-3c1e-4448-e0af-2c9b1a5af90e"
      },
      "execution_count": 111,
      "outputs": [
        {
          "output_type": "execute_result",
          "data": {
            "text/plain": [
              "'cat'"
            ],
            "application/vnd.google.colaboratory.intrinsic+json": {
              "type": "string"
            }
          },
          "metadata": {},
          "execution_count": 111
        }
      ]
    },
    {
      "cell_type": "markdown",
      "source": [
        "## Evaluating model accuracy"
      ],
      "metadata": {
        "id": "9DakGGgTBM3z"
      }
    },
    {
      "cell_type": "code",
      "source": [
        "test_accuracy = model_CNN.evaluate(x_test, y_test)"
      ],
      "metadata": {
        "colab": {
          "base_uri": "https://localhost:8080/"
        },
        "id": "UasnR7j0zn5t",
        "outputId": "d06d3dd2-e5d2-4e82-fb8b-877326d02f85"
      },
      "execution_count": 112,
      "outputs": [
        {
          "output_type": "stream",
          "name": "stdout",
          "text": [
            "313/313 [==============================] - 3s 9ms/step - loss: 0.8081 - sparse_categorical_accuracy: 0.7144\n"
          ]
        }
      ]
    },
    {
      "cell_type": "code",
      "source": [
        ""
      ],
      "metadata": {
        "id": "Iepy1zlvB22Z"
      },
      "execution_count": 112,
      "outputs": []
    }
  ]
}