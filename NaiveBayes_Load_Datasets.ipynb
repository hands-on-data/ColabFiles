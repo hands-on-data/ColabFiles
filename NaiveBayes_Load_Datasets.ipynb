{
  "nbformat": 4,
  "nbformat_minor": 0,
  "metadata": {
    "colab": {
      "name": "NaiveBayes_Load_Datasets.ipynb",
      "provenance": []
    },
    "kernelspec": {
      "name": "python3",
      "display_name": "Python 3"
    },
    "language_info": {
      "name": "python"
    }
  },
  "cells": [
    {
      "cell_type": "markdown",
      "source": [
        "#Load Datasets for Naive Bayes"
      ],
      "metadata": {
        "id": "hU9j2_kO_Ta4"
      }
    },
    {
      "cell_type": "markdown",
      "source": [
        "This notebook is used for explaining the steps involved in loading datasets for Naive Bayes\n",
        "\n",
        "1. Import the required libraries\n",
        "2. Connect your google drive with Colab\n",
        "3. Function for downloading IMDB Dataset and store in drive \n",
        "\n"
      ],
      "metadata": {
        "id": "7Aw5bHKZH2Io"
      }
    },
    {
      "cell_type": "markdown",
      "source": [
        "## Note:- This notebook should be run first, then you should proceed to the Naive Bayes notebook given in the website."
      ],
      "metadata": {
        "id": "gZpxhEoOIEiS"
      }
    },
    {
      "cell_type": "markdown",
      "source": [
        "## Import the required libraries"
      ],
      "metadata": {
        "id": "Mtz3q9iRILD6"
      }
    },
    {
      "cell_type": "code",
      "source": [
        "from google.colab import drive       #This library is used for connecting google drive with colab\n",
        "import pandas as pd                  #This library is imported for data analysis\n",
        "import numpy as np                   #This library is used for working with arrays and performing various linear algebra operations"
      ],
      "metadata": {
        "id": "AeCLl-Ka_Tvs"
      },
      "execution_count": 30,
      "outputs": []
    },
    {
      "cell_type": "markdown",
      "source": [
        "## Connect your google drive with Colab "
      ],
      "metadata": {
        "id": "eYj98j3pIQFL"
      }
    },
    {
      "cell_type": "code",
      "source": [
        "drive.mount('/content/gdrive')      #This library is used for mounting drive"
      ],
      "metadata": {
        "colab": {
          "base_uri": "https://localhost:8080/"
        },
        "id": "TtyM1ZqkINZk",
        "outputId": "ba3d5aab-a1dc-4977-afb3-5c26f98f885f"
      },
      "execution_count": 31,
      "outputs": [
        {
          "output_type": "stream",
          "name": "stdout",
          "text": [
            "Drive already mounted at /content/gdrive; to attempt to forcibly remount, call drive.mount(\"/content/gdrive\", force_remount=True).\n"
          ]
        }
      ]
    },
    {
      "cell_type": "markdown",
      "source": [
        " ## Function for downloading IMDB dataset and store in drive "
      ],
      "metadata": {
        "id": "1lsuNZbwIY2n"
      }
    },
    {
      "cell_type": "code",
      "source": [
        "def downloadIMDBData():         # This function is used for download the IMDB Data; This function has been called from load_Datasets() function\n",
        "  !gdown --id 1ChEG5QpHsi00TppEbbuJOjtSDpzAFV9J    # gdown command is used for fast download of files from zip file\n",
        "  import zipfile                                    # This library will deals with extracting zipfiles\n",
        "  with zipfile.ZipFile(\"/content/IMDB_data.zip\",\"r\") as zip_ref:        \n",
        "      zip_ref.extractall(\"/content\")                #Extracting zip file content \n",
        "  !cp /content/IMDB_data/testData.tsv \"gdrive/MyDrive\"         #Saving the extracted content in user's Google Drive.\n",
        "  !cp /content/IMDB_data/trainData.tsv \"gdrive/MyDrive\"         #Saving the extracted content in user's Google Drive.\n",
        "  print(\"IMDB Dataset has been succesfully downloaded and saved to your drive.\")"
      ],
      "metadata": {
        "id": "ia8AEXwcISkR"
      },
      "execution_count": 32,
      "outputs": []
    },
    {
      "cell_type": "markdown",
      "source": [
        "###Calling the downloadIMDBData() function"
      ],
      "metadata": {
        "id": "z6tJ2uM3Iebj"
      }
    },
    {
      "cell_type": "code",
      "source": [
        "downloadIMDBData()           # Calling the downloadHousingData() function"
      ],
      "metadata": {
        "colab": {
          "base_uri": "https://localhost:8080/"
        },
        "id": "IPIU53aTIbvq",
        "outputId": "6fc23a62-60cc-4197-88ee-e741b272d724"
      },
      "execution_count": 33,
      "outputs": [
        {
          "output_type": "stream",
          "name": "stdout",
          "text": [
            "Downloading...\n",
            "From: https://drive.google.com/uc?id=1ChEG5QpHsi00TppEbbuJOjtSDpzAFV9J\n",
            "To: /content/IMDB_data.zip\n",
            "\r  0% 0.00/26.8M [00:00<?, ?B/s]\r 88% 23.6M/26.8M [00:00<00:00, 234MB/s]\r100% 26.8M/26.8M [00:00<00:00, 207MB/s]\n",
            "IMDB Dataset has been succesfully downloaded and saved to your drive.\n"
          ]
        }
      ]
    },
    {
      "cell_type": "code",
      "source": [
        ""
      ],
      "metadata": {
        "id": "aGhn8Ad1WXEQ"
      },
      "execution_count": null,
      "outputs": []
    }
  ]
}