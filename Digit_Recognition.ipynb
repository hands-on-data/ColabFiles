{
  "nbformat": 4,
  "nbformat_minor": 0,
  "metadata": {
    "colab": {
      "name": "Digit_Recognition.ipynb",
      "provenance": []
    },
    "kernelspec": {
      "name": "python3",
      "display_name": "Python 3"
    },
    "language_info": {
      "name": "python"
    },
    "accelerator": "GPU"
  },
  "cells": [
    {
      "cell_type": "markdown",
      "source": [
        "#Digit Recognition"
      ],
      "metadata": {
        "id": "7H1fsbAr5YaC"
      }
    },
    {
      "cell_type": "markdown",
      "source": [
        "This notebook is used for explaining the steps involved in using CNN on MNIST dataset to do Digit Recognition\n",
        "\n",
        "1. Import the required libraries\n",
        "2. Download the MNIST Dataset\n",
        "3. Observe the Dataset\n",
        "4. Data Preprocessing \n",
        "5. Building the model\n",
        "6. Training the model\n",
        "7. Evaluating model accuracy\n",
        "8. Making prediction on a test digit"
      ],
      "metadata": {
        "id": "Mv3vBJAe5edc"
      }
    },
    {
      "cell_type": "markdown",
      "source": [
        "## Note: Set Runtime to GPU before running the notebook"
      ],
      "metadata": {
        "id": "j4b4oAmQ5qS4"
      }
    },
    {
      "cell_type": "markdown",
      "source": [
        "## Import the required libraries"
      ],
      "metadata": {
        "id": "OPBTGJnb5sn9"
      }
    },
    {
      "cell_type": "code",
      "source": [
        "from keras.datasets import mnist\n",
        "import tensorflow as tf\n",
        "import numpy as np\n",
        "import pandas as pd\n",
        "import matplotlib.pyplot as plt"
      ],
      "metadata": {
        "id": "SwuDWCNj5Xbb"
      },
      "execution_count": null,
      "outputs": []
    },
    {
      "cell_type": "markdown",
      "source": [
        "##Download the MNIST Dataset"
      ],
      "metadata": {
        "id": "juWSjJFc541L"
      }
    },
    {
      "cell_type": "code",
      "source": [
        "(XTrain, YTrain), (XTest, YTest) = mnist.load_data()"
      ],
      "metadata": {
        "id": "4VRpmcdFrxW8"
      },
      "execution_count": 44,
      "outputs": []
    },
    {
      "cell_type": "markdown",
      "source": [
        "## Observe the Dataset"
      ],
      "metadata": {
        "id": "-5g_e9om6yqI"
      }
    },
    {
      "cell_type": "code",
      "source": [
        "XTrain"
      ],
      "metadata": {
        "colab": {
          "base_uri": "https://localhost:8080/"
        },
        "id": "Za6__A086na3",
        "outputId": "8b8cfd7e-4f22-44fc-8231-7c5d2b071ed2"
      },
      "execution_count": 72,
      "outputs": [
        {
          "output_type": "execute_result",
          "data": {
            "text/plain": [
              "array([[[[0.],\n",
              "         [0.],\n",
              "         [0.],\n",
              "         ...,\n",
              "         [0.],\n",
              "         [0.],\n",
              "         [0.]],\n",
              "\n",
              "        [[0.],\n",
              "         [0.],\n",
              "         [0.],\n",
              "         ...,\n",
              "         [0.],\n",
              "         [0.],\n",
              "         [0.]],\n",
              "\n",
              "        [[0.],\n",
              "         [0.],\n",
              "         [0.],\n",
              "         ...,\n",
              "         [0.],\n",
              "         [0.],\n",
              "         [0.]],\n",
              "\n",
              "        ...,\n",
              "\n",
              "        [[0.],\n",
              "         [0.],\n",
              "         [0.],\n",
              "         ...,\n",
              "         [0.],\n",
              "         [0.],\n",
              "         [0.]],\n",
              "\n",
              "        [[0.],\n",
              "         [0.],\n",
              "         [0.],\n",
              "         ...,\n",
              "         [0.],\n",
              "         [0.],\n",
              "         [0.]],\n",
              "\n",
              "        [[0.],\n",
              "         [0.],\n",
              "         [0.],\n",
              "         ...,\n",
              "         [0.],\n",
              "         [0.],\n",
              "         [0.]]],\n",
              "\n",
              "\n",
              "       [[[0.],\n",
              "         [0.],\n",
              "         [0.],\n",
              "         ...,\n",
              "         [0.],\n",
              "         [0.],\n",
              "         [0.]],\n",
              "\n",
              "        [[0.],\n",
              "         [0.],\n",
              "         [0.],\n",
              "         ...,\n",
              "         [0.],\n",
              "         [0.],\n",
              "         [0.]],\n",
              "\n",
              "        [[0.],\n",
              "         [0.],\n",
              "         [0.],\n",
              "         ...,\n",
              "         [0.],\n",
              "         [0.],\n",
              "         [0.]],\n",
              "\n",
              "        ...,\n",
              "\n",
              "        [[0.],\n",
              "         [0.],\n",
              "         [0.],\n",
              "         ...,\n",
              "         [0.],\n",
              "         [0.],\n",
              "         [0.]],\n",
              "\n",
              "        [[0.],\n",
              "         [0.],\n",
              "         [0.],\n",
              "         ...,\n",
              "         [0.],\n",
              "         [0.],\n",
              "         [0.]],\n",
              "\n",
              "        [[0.],\n",
              "         [0.],\n",
              "         [0.],\n",
              "         ...,\n",
              "         [0.],\n",
              "         [0.],\n",
              "         [0.]]],\n",
              "\n",
              "\n",
              "       [[[0.],\n",
              "         [0.],\n",
              "         [0.],\n",
              "         ...,\n",
              "         [0.],\n",
              "         [0.],\n",
              "         [0.]],\n",
              "\n",
              "        [[0.],\n",
              "         [0.],\n",
              "         [0.],\n",
              "         ...,\n",
              "         [0.],\n",
              "         [0.],\n",
              "         [0.]],\n",
              "\n",
              "        [[0.],\n",
              "         [0.],\n",
              "         [0.],\n",
              "         ...,\n",
              "         [0.],\n",
              "         [0.],\n",
              "         [0.]],\n",
              "\n",
              "        ...,\n",
              "\n",
              "        [[0.],\n",
              "         [0.],\n",
              "         [0.],\n",
              "         ...,\n",
              "         [0.],\n",
              "         [0.],\n",
              "         [0.]],\n",
              "\n",
              "        [[0.],\n",
              "         [0.],\n",
              "         [0.],\n",
              "         ...,\n",
              "         [0.],\n",
              "         [0.],\n",
              "         [0.]],\n",
              "\n",
              "        [[0.],\n",
              "         [0.],\n",
              "         [0.],\n",
              "         ...,\n",
              "         [0.],\n",
              "         [0.],\n",
              "         [0.]]],\n",
              "\n",
              "\n",
              "       ...,\n",
              "\n",
              "\n",
              "       [[[0.],\n",
              "         [0.],\n",
              "         [0.],\n",
              "         ...,\n",
              "         [0.],\n",
              "         [0.],\n",
              "         [0.]],\n",
              "\n",
              "        [[0.],\n",
              "         [0.],\n",
              "         [0.],\n",
              "         ...,\n",
              "         [0.],\n",
              "         [0.],\n",
              "         [0.]],\n",
              "\n",
              "        [[0.],\n",
              "         [0.],\n",
              "         [0.],\n",
              "         ...,\n",
              "         [0.],\n",
              "         [0.],\n",
              "         [0.]],\n",
              "\n",
              "        ...,\n",
              "\n",
              "        [[0.],\n",
              "         [0.],\n",
              "         [0.],\n",
              "         ...,\n",
              "         [0.],\n",
              "         [0.],\n",
              "         [0.]],\n",
              "\n",
              "        [[0.],\n",
              "         [0.],\n",
              "         [0.],\n",
              "         ...,\n",
              "         [0.],\n",
              "         [0.],\n",
              "         [0.]],\n",
              "\n",
              "        [[0.],\n",
              "         [0.],\n",
              "         [0.],\n",
              "         ...,\n",
              "         [0.],\n",
              "         [0.],\n",
              "         [0.]]],\n",
              "\n",
              "\n",
              "       [[[0.],\n",
              "         [0.],\n",
              "         [0.],\n",
              "         ...,\n",
              "         [0.],\n",
              "         [0.],\n",
              "         [0.]],\n",
              "\n",
              "        [[0.],\n",
              "         [0.],\n",
              "         [0.],\n",
              "         ...,\n",
              "         [0.],\n",
              "         [0.],\n",
              "         [0.]],\n",
              "\n",
              "        [[0.],\n",
              "         [0.],\n",
              "         [0.],\n",
              "         ...,\n",
              "         [0.],\n",
              "         [0.],\n",
              "         [0.]],\n",
              "\n",
              "        ...,\n",
              "\n",
              "        [[0.],\n",
              "         [0.],\n",
              "         [0.],\n",
              "         ...,\n",
              "         [0.],\n",
              "         [0.],\n",
              "         [0.]],\n",
              "\n",
              "        [[0.],\n",
              "         [0.],\n",
              "         [0.],\n",
              "         ...,\n",
              "         [0.],\n",
              "         [0.],\n",
              "         [0.]],\n",
              "\n",
              "        [[0.],\n",
              "         [0.],\n",
              "         [0.],\n",
              "         ...,\n",
              "         [0.],\n",
              "         [0.],\n",
              "         [0.]]],\n",
              "\n",
              "\n",
              "       [[[0.],\n",
              "         [0.],\n",
              "         [0.],\n",
              "         ...,\n",
              "         [0.],\n",
              "         [0.],\n",
              "         [0.]],\n",
              "\n",
              "        [[0.],\n",
              "         [0.],\n",
              "         [0.],\n",
              "         ...,\n",
              "         [0.],\n",
              "         [0.],\n",
              "         [0.]],\n",
              "\n",
              "        [[0.],\n",
              "         [0.],\n",
              "         [0.],\n",
              "         ...,\n",
              "         [0.],\n",
              "         [0.],\n",
              "         [0.]],\n",
              "\n",
              "        ...,\n",
              "\n",
              "        [[0.],\n",
              "         [0.],\n",
              "         [0.],\n",
              "         ...,\n",
              "         [0.],\n",
              "         [0.],\n",
              "         [0.]],\n",
              "\n",
              "        [[0.],\n",
              "         [0.],\n",
              "         [0.],\n",
              "         ...,\n",
              "         [0.],\n",
              "         [0.],\n",
              "         [0.]],\n",
              "\n",
              "        [[0.],\n",
              "         [0.],\n",
              "         [0.],\n",
              "         ...,\n",
              "         [0.],\n",
              "         [0.],\n",
              "         [0.]]]], dtype=float32)"
            ]
          },
          "metadata": {},
          "execution_count": 72
        }
      ]
    },
    {
      "cell_type": "code",
      "source": [
        "YTrain"
      ],
      "metadata": {
        "colab": {
          "base_uri": "https://localhost:8080/"
        },
        "id": "6HQZGiRb6qKS",
        "outputId": "af391bbf-77db-4f7e-a5be-40b1c29cb931"
      },
      "execution_count": 73,
      "outputs": [
        {
          "output_type": "execute_result",
          "data": {
            "text/plain": [
              "array([[0., 0., 0., ..., 0., 0., 0.],\n",
              "       [1., 0., 0., ..., 0., 0., 0.],\n",
              "       [0., 0., 0., ..., 0., 0., 0.],\n",
              "       ...,\n",
              "       [0., 0., 0., ..., 0., 0., 0.],\n",
              "       [0., 0., 0., ..., 0., 0., 0.],\n",
              "       [0., 0., 0., ..., 0., 1., 0.]], dtype=float32)"
            ]
          },
          "metadata": {},
          "execution_count": 73
        }
      ]
    },
    {
      "cell_type": "code",
      "source": [
        "sample_image = XTest[4]"
      ],
      "metadata": {
        "id": "sdgL-Qrx7Dou"
      },
      "execution_count": null,
      "outputs": []
    },
    {
      "cell_type": "markdown",
      "source": [
        "## Data Preprocessing"
      ],
      "metadata": {
        "id": "XX8ov6ab7NMA"
      }
    },
    {
      "cell_type": "code",
      "source": [
        "XTrain = XTrain.astype('float32')\n",
        "XTest = XTest.astype('float32')"
      ],
      "metadata": {
        "id": "gEeFk1x8szoz"
      },
      "execution_count": 45,
      "outputs": []
    },
    {
      "cell_type": "code",
      "source": [
        "XTrain = XTrain/255.0\n",
        "XTest =  XTest/255.0"
      ],
      "metadata": {
        "id": "VAok0qnd2zqB"
      },
      "execution_count": 47,
      "outputs": []
    },
    {
      "cell_type": "code",
      "source": [
        "XTrain = XTrain.reshape(XTrain.shape[0],28,28,1)\n",
        "XTest = XTest.reshape(XTest.shape[0],28,28,1)"
      ],
      "metadata": {
        "id": "uInClfTXsTLk"
      },
      "execution_count": 30,
      "outputs": []
    },
    {
      "cell_type": "code",
      "source": [
        "YTrain = tf.keras.utils.to_categorical(YTrain,10)\n",
        "YTest = tf.keras.utils.to_categorical(YTest,10)"
      ],
      "metadata": {
        "id": "xO3y2XOQ7Idr"
      },
      "execution_count": null,
      "outputs": []
    },
    {
      "cell_type": "markdown",
      "source": [
        "## Building the model"
      ],
      "metadata": {
        "id": "b3xR-j3u7PjO"
      }
    },
    {
      "cell_type": "code",
      "source": [
        "model_CNN = tf.keras.models.Sequential()\n",
        "model_CNN.add(tf.keras.layers.Conv2D(filters=32, kernel_size=(3, 3),activation=\"relu\",input_shape=[28,28,1]))\n",
        "model_CNN.add(tf.keras.layers.Conv2D(filters=64, kernel_size=(3, 3), activation=\"relu\"))\n",
        "model_CNN.add(tf.keras.layers.Conv2D(filters=32, kernel_size=(2, 2), activation=\"relu\"))\n",
        "\n",
        "model_CNN.add(tf.keras.layers.MaxPool2D(pool_size=(2, 2)))\n",
        "model_CNN.add(tf.keras.layers.Dropout(0.4))\n",
        "model_CNN.add(tf.keras.layers.Flatten())\n",
        "model_CNN.add(tf.keras.layers.Dense(units=256, activation=\"relu\"))\n",
        "model_CNN.add(tf.keras.layers.Dropout(0.3))\n",
        "model_CNN.add(tf.keras.layers.Dense(units=10, activation=\"softmax\"))\n",
        "model_CNN.summary()"
      ],
      "metadata": {
        "colab": {
          "base_uri": "https://localhost:8080/"
        },
        "id": "pAM8tscZst5Y",
        "outputId": "9d94f41b-402a-465c-e1c6-1ecadc671b57"
      },
      "execution_count": 58,
      "outputs": [
        {
          "output_type": "stream",
          "name": "stdout",
          "text": [
            "Model: \"sequential_3\"\n",
            "_________________________________________________________________\n",
            " Layer (type)                Output Shape              Param #   \n",
            "=================================================================\n",
            " conv2d_9 (Conv2D)           (None, 26, 26, 32)        320       \n",
            "                                                                 \n",
            " conv2d_10 (Conv2D)          (None, 24, 24, 64)        18496     \n",
            "                                                                 \n",
            " conv2d_11 (Conv2D)          (None, 23, 23, 32)        8224      \n",
            "                                                                 \n",
            " max_pooling2d_3 (MaxPooling  (None, 11, 11, 32)       0         \n",
            " 2D)                                                             \n",
            "                                                                 \n",
            " dropout_6 (Dropout)         (None, 11, 11, 32)        0         \n",
            "                                                                 \n",
            " flatten_3 (Flatten)         (None, 3872)              0         \n",
            "                                                                 \n",
            " dense_6 (Dense)             (None, 256)               991488    \n",
            "                                                                 \n",
            " dropout_7 (Dropout)         (None, 256)               0         \n",
            "                                                                 \n",
            " dense_7 (Dense)             (None, 10)                2570      \n",
            "                                                                 \n",
            "=================================================================\n",
            "Total params: 1,021,098\n",
            "Trainable params: 1,021,098\n",
            "Non-trainable params: 0\n",
            "_________________________________________________________________\n"
          ]
        }
      ]
    },
    {
      "cell_type": "code",
      "source": [
        "model_CNN.compile(loss=\"categorical_crossentropy\",optimizer=\"Adadelta\",metrics=[\"categorical_accuracy\"])"
      ],
      "metadata": {
        "id": "WmkHLp5GyiRv"
      },
      "execution_count": 59,
      "outputs": []
    },
    {
      "cell_type": "markdown",
      "source": [
        "## Training the Model"
      ],
      "metadata": {
        "id": "qNfQp3bs7VBn"
      }
    },
    {
      "cell_type": "code",
      "source": [
        "model_CNN.fit(XTrain,YTrain,batch_size=256,epochs=10)"
      ],
      "metadata": {
        "colab": {
          "base_uri": "https://localhost:8080/"
        },
        "id": "M7pyrqYZtwo3",
        "outputId": "8452750e-df48-4cee-f125-41f54bf905b5"
      },
      "execution_count": 62,
      "outputs": [
        {
          "output_type": "stream",
          "name": "stdout",
          "text": [
            "Epoch 1/10\n",
            "235/235 [==============================] - 8s 31ms/step - loss: 28.0670 - categorical_accuracy: 0.1436\n",
            "Epoch 2/10\n",
            "235/235 [==============================] - 7s 31ms/step - loss: 19.4600 - categorical_accuracy: 0.1990\n",
            "Epoch 3/10\n",
            "235/235 [==============================] - 7s 31ms/step - loss: 14.6809 - categorical_accuracy: 0.2600\n",
            "Epoch 4/10\n",
            "235/235 [==============================] - 7s 31ms/step - loss: 11.3869 - categorical_accuracy: 0.3156\n",
            "Epoch 5/10\n",
            "235/235 [==============================] - 7s 31ms/step - loss: 9.0882 - categorical_accuracy: 0.3685\n",
            "Epoch 6/10\n",
            "235/235 [==============================] - 7s 32ms/step - loss: 7.3575 - categorical_accuracy: 0.4151\n",
            "Epoch 7/10\n",
            "235/235 [==============================] - 7s 31ms/step - loss: 6.0077 - categorical_accuracy: 0.4539\n",
            "Epoch 8/10\n",
            "235/235 [==============================] - 7s 31ms/step - loss: 5.0778 - categorical_accuracy: 0.4805\n",
            "Epoch 9/10\n",
            "235/235 [==============================] - 7s 31ms/step - loss: 4.3157 - categorical_accuracy: 0.5130\n",
            "Epoch 10/10\n",
            "235/235 [==============================] - 7s 31ms/step - loss: 3.7000 - categorical_accuracy: 0.5365\n"
          ]
        },
        {
          "output_type": "execute_result",
          "data": {
            "text/plain": [
              "<keras.callbacks.History at 0x7f2b9e40b390>"
            ]
          },
          "metadata": {},
          "execution_count": 62
        }
      ]
    },
    {
      "cell_type": "markdown",
      "source": [
        "## Evaluating model accuracy"
      ],
      "metadata": {
        "id": "TOZjEAmV7ZJ6"
      }
    },
    {
      "cell_type": "code",
      "source": [
        "model_loss,model_accuracy = model_CNN.evaluate(XTest, YTest)"
      ],
      "metadata": {
        "colab": {
          "base_uri": "https://localhost:8080/"
        },
        "id": "zFDNE_Tl0a5k",
        "outputId": "34d56c57-c1a1-48dc-e00c-2ac5dd5dcccf"
      },
      "execution_count": 63,
      "outputs": [
        {
          "output_type": "stream",
          "name": "stdout",
          "text": [
            "313/313 [==============================] - 2s 5ms/step - loss: 0.8226 - categorical_accuracy: 0.8032\n"
          ]
        }
      ]
    },
    {
      "cell_type": "markdown",
      "source": [
        "## Making prediction on a test digit"
      ],
      "metadata": {
        "id": "5fJ8B1DK7xuc"
      }
    },
    {
      "cell_type": "markdown",
      "source": [
        "#### Displaying the sample digit to be used in prediction"
      ],
      "metadata": {
        "id": "KDpScz7r8O2z"
      }
    },
    {
      "cell_type": "code",
      "source": [
        "plt.imshow(sample_image,  cmap=\"gray\")"
      ],
      "metadata": {
        "colab": {
          "base_uri": "https://localhost:8080/",
          "height": 282
        },
        "id": "baZgF2iV1vKP",
        "outputId": "8ad0ce98-0f1c-4a7b-c71a-e3ccf8581129"
      },
      "execution_count": 64,
      "outputs": [
        {
          "output_type": "execute_result",
          "data": {
            "text/plain": [
              "<matplotlib.image.AxesImage at 0x7f2b9ba6b410>"
            ]
          },
          "metadata": {},
          "execution_count": 64
        },
        {
          "output_type": "display_data",
          "data": {
            "text/plain": [
              "<Figure size 432x288 with 1 Axes>"
            ],
            "image/png": "[encoded data removed]"
          },
          "metadata": {
            "needs_background": "light"
          }
        }
      ]
    },
    {
      "cell_type": "code",
      "source": [
        "reshaped_image = sample_image.reshape(1,28,28,1)"
      ],
      "metadata": {
        "id": "mKJluiKM34mL"
      },
      "execution_count": 65,
      "outputs": []
    },
    {
      "cell_type": "code",
      "source": [
        "predicted_array = model_CNN.predict(reshaped_image)"
      ],
      "metadata": {
        "id": "EKpw1gpA3VWN"
      },
      "execution_count": 66,
      "outputs": []
    },
    {
      "cell_type": "code",
      "source": [
        "predicted_array=list(predicted_array)"
      ],
      "metadata": {
        "id": "FkWOkfyr4t3q"
      },
      "execution_count": 67,
      "outputs": []
    },
    {
      "cell_type": "code",
      "source": [
        "predicted_array = predicted_array[0]"
      ],
      "metadata": {
        "id": "Sx-sCqc230Ko"
      },
      "execution_count": 68,
      "outputs": []
    },
    {
      "cell_type": "code",
      "source": [
        "predicted_array"
      ],
      "metadata": {
        "colab": {
          "base_uri": "https://localhost:8080/"
        },
        "id": "-TKrOBpX4xXT",
        "outputId": "dc450da5-8f55-4ef4-923a-b7edec894623"
      },
      "execution_count": 69,
      "outputs": [
        {
          "output_type": "execute_result",
          "data": {
            "text/plain": [
              "array([1.7815741e-05, 1.3896727e-10, 8.7428759e-07, 1.2473388e-06,\n",
              "       9.9974293e-01, 1.6768755e-07, 2.0666735e-09, 1.4763747e-04,\n",
              "       1.9511763e-08, 8.9368696e-05], dtype=float32)"
            ]
          },
          "metadata": {},
          "execution_count": 69
        }
      ]
    },
    {
      "cell_type": "code",
      "source": [
        "digit_prob = 0.0\n",
        "digit = 0\n",
        "for i in range(10):\n",
        "  if predicted_array[i]>digit_prob:\n",
        "    digit = i\n",
        "    digit_prob = predicted_array[i]"
      ],
      "metadata": {
        "id": "rG5ejW5G40oZ"
      },
      "execution_count": 75,
      "outputs": []
    },
    {
      "cell_type": "markdown",
      "source": [
        "#### Printing the digit predicted by model"
      ],
      "metadata": {
        "id": "euaNw1NR8WH3"
      }
    },
    {
      "cell_type": "code",
      "source": [
        "digit"
      ],
      "metadata": {
        "colab": {
          "base_uri": "https://localhost:8080/"
        },
        "id": "sW2mbA-f42MM",
        "outputId": "84e0239d-6c1c-49c9-ac8d-61234b3c7259"
      },
      "execution_count": 76,
      "outputs": [
        {
          "output_type": "execute_result",
          "data": {
            "text/plain": [
              "4"
            ]
          },
          "metadata": {},
          "execution_count": 76
        }
      ]
    },
    {
      "cell_type": "code",
      "source": [
        ""
      ],
      "metadata": {
        "id": "887JFMmw8gyQ"
      },
      "execution_count": null,
      "outputs": []
    }
  ]
}