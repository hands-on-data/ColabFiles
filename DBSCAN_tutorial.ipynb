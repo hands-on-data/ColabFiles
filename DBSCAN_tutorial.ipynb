{
  "nbformat": 4,
  "nbformat_minor": 0,
  "metadata": {
    "colab": {
      "name": "DBSCAN_tutorial.ipynb",
      "provenance": [],
      "collapsed_sections": []
    },
    "kernelspec": {
      "name": "python3",
      "display_name": "Python 3"
    },
    "language_info": {
      "name": "python"
    }
  },
  "cells": [
    {
      "cell_type": "markdown",
      "source": [
        "This notebook is used for explaining the steps involved in creating a DBSCAN model \n",
        "\n",
        "\n",
        "1. Import the required libraries\n",
        "2. Donwload the required dataset\n",
        "3. Read the Dataset \n",
        "4. Observe the DataSet\n",
        "5. Build a DBSCAN model\n",
        "6. Training the DBSCAN model\n",
        "7. Plotting the datapoints as labelled by the DBSCAN model"
      ],
      "metadata": {
        "id": "VOSk2AXcBAL7"
      }
    },
    {
      "cell_type": "markdown",
      "source": [
        "## Import the required libraries"
      ],
      "metadata": {
        "id": "Iek6T18FBiGu"
      }
    },
    {
      "cell_type": "code",
      "source": [
        "import zipfile                                   # It deals with extracting the zipfile\n",
        "import matplotlib.pyplot as plt                  # For plotting the datapoints\n",
        "import numpy as np                               # Used to do linear algebra operations\n",
        "from sklearn.cluster import DBSCAN               # using the DBSCAN library\n",
        "import math                                      # For performing mathematical operations\n",
        "import pandas as pd                              # For doing data manipulations"
      ],
      "metadata": {
        "id": "oUlJgAYjBC9m"
      },
      "execution_count": 159,
      "outputs": []
    },
    {
      "cell_type": "markdown",
      "source": [
        "## Download the required Dataset "
      ],
      "metadata": {
        "id": "YaKo4q1nB7NW"
      }
    },
    {
      "cell_type": "code",
      "source": [
        "!gdown --id 1mOxFBsot2sgewzTpjdp6CGl8wubD6txr                   #Downloading the dataset"
      ],
      "metadata": {
        "id": "Xc4oj_rqGa90",
        "colab": {
          "base_uri": "https://localhost:8080/"
        },
        "outputId": "fd8bd999-b6d1-4a9e-bed5-ff8de6fcb381"
      },
      "execution_count": 160,
      "outputs": [
        {
          "output_type": "stream",
          "name": "stdout",
          "text": [
            "Downloading...\n",
            "From: https://drive.google.com/uc?id=1mOxFBsot2sgewzTpjdp6CGl8wubD6txr\n",
            "To: /content/data.zip\n",
            "\r  0% 0.00/817 [00:00<?, ?B/s]\r100% 817/817 [00:00<00:00, 1.14MB/s]\n"
          ]
        }
      ]
    },
    {
      "cell_type": "code",
      "source": [
        "with zipfile.ZipFile(\"/content/data.zip\",\"r\") as zip_ref:         #Unzipping the data\n",
        "    zip_ref.extractall(\"/content\") "
      ],
      "metadata": {
        "id": "uXButkt49Bd3"
      },
      "execution_count": 161,
      "outputs": []
    },
    {
      "cell_type": "markdown",
      "source": [
        "## Read the Dataset "
      ],
      "metadata": {
        "id": "LcZUHe8iB0gt"
      }
    },
    {
      "cell_type": "code",
      "source": [
        "df = pd.read_csv('data.csv',header=None)             "
      ],
      "metadata": {
        "id": "TdsbkdEJ9Jlh"
      },
      "execution_count": 162,
      "outputs": []
    },
    {
      "cell_type": "code",
      "source": [
        "dataSet =  df.to_numpy()                                         "
      ],
      "metadata": {
        "id": "D6yyzWWVHOTI"
      },
      "execution_count": 163,
      "outputs": []
    },
    {
      "cell_type": "markdown",
      "source": [
        " ## Observe the DataSet"
      ],
      "metadata": {
        "id": "SWb5WyMtCCx8"
      }
    },
    {
      "cell_type": "code",
      "source": [
        "dataSet"
      ],
      "metadata": {
        "colab": {
          "base_uri": "https://localhost:8080/"
        },
        "id": "zYvgjn506mq-",
        "outputId": "9e759188-ff16-4263-8f21-51df3e841948"
      },
      "execution_count": 164,
      "outputs": [
        {
          "output_type": "execute_result",
          "data": {
            "text/plain": [
              "array([[ 3.06    ,  5.64    ],\n",
              "       [ 2.76    ,  4.38    ],\n",
              "       [ 3.24    ,  5.68    ],\n",
              "       [ 3.49    ,  7.8     ],\n",
              "       [ 2.69    ,  4.32    ],\n",
              "       [ 3.39    ,  6.75    ],\n",
              "       [ 2.52    ,  5.25    ],\n",
              "       [ 2.51    ,  5.05    ],\n",
              "       [ 2.98    ,  5.2     ],\n",
              "       [ 3.15    ,  7.22    ],\n",
              "       [ 3.32    ,  5.75    ],\n",
              "       [ 2.43    ,  5.      ],\n",
              "       [ 2.76    ,  5.6     ],\n",
              "       [ 3.69    ,  5.4     ],\n",
              "       [ 3.64    ,  7.5     ],\n",
              "       [ 2.91    ,  7.3     ],\n",
              "       [ 3.14    ,  6.2     ],\n",
              "       [ 3.4     ,  6.6     ],\n",
              "       [ 3.93    ,  8.7     ],\n",
              "       [ 3.03    ,  5.1     ],\n",
              "       [ 3.17    ,  5.65    ],\n",
              "       [ 2.41    ,  4.5     ],\n",
              "       [ 2.88    ,  3.8     ],\n",
              "       [ 2.37    ,  3.93    ],\n",
              "       [ 2.61    ,  3.52    ],\n",
              "       [ 2.68    ,  3.58    ],\n",
              "       [ 2.94    ,  4.8     ],\n",
              "       [ 2.19    ,  3.95    ],\n",
              "       [ 2.97    ,  4.5     ],\n",
              "       [ 2.33    ,  4.7     ],\n",
              "       [ 3.25    ,  5.7     ],\n",
              "       [ 3.19    ,  6.9     ],\n",
              "       [ 2.69    ,  3.84    ],\n",
              "       [ 2.74    ,  5.4     ],\n",
              "       [ 2.53    ,  4.2     ],\n",
              "       [ 2.98    ,  5.1     ],\n",
              "       [ 2.68    ,  4.6     ],\n",
              "       [ 2.43    ,  4.25    ],\n",
              "       [ 2.64    ,  3.7     ],\n",
              "       [ 3.04    ,  5.1     ],\n",
              "       [ 3.29    ,  6.13    ],\n",
              "       [ 2.68    ,  4.28    ],\n",
              "       [ 3.56    ,  5.43    ],\n",
              "       [ 2.63    ,  4.36    ],\n",
              "       [ 3.      ,  5.04    ],\n",
              "       [ 2.65    ,  5.24    ],\n",
              "       [ 3.17    ,  4.9     ],\n",
              "       [ 3.39    ,  6.1     ],\n",
              "       [ 2.92    ,  6.2     ],\n",
              "       [ 3.54    ,  8.9     ],\n",
              "       [ 3.27    ,  7.2     ],\n",
              "       [ 2.99    ,  5.6     ],\n",
              "       [ 3.74    ,  7.05    ],\n",
              "       [ 2.79    ,  6.3     ],\n",
              "       [ 2.9     ,  5.85    ],\n",
              "       [ 2.78    ,  6.25    ],\n",
              "       [ 3.      ,  6.38    ],\n",
              "       [ 3.23    ,  6.      ],\n",
              "       [ 3.67    ,  6.8     ],\n",
              "       [ 0.57    ,  1.95    ],\n",
              "       [ 1.09    ,  3.27    ],\n",
              "       [ 1.41    ,  5.75    ],\n",
              "       [ 1.79    ,  3.8     ],\n",
              "       [ 3.1     ,  4.45    ],\n",
              "       [ 1.75    ,  2.95    ],\n",
              "       [ 2.65    ,  4.6     ],\n",
              "       [ 3.18    ,  5.3     ],\n",
              "       [ 2.      ,  4.68    ],\n",
              "       [ 1.3     ,  3.17    ],\n",
              "       [ 1.28    ,  2.85    ],\n",
              "       [ 1.02    ,  3.05    ],\n",
              "       [ 2.86    ,  3.38    ],\n",
              "       [ 1.84    ,  3.74    ],\n",
              "       [ 2.89    ,  3.35    ],\n",
              "       [ 2.14    ,  3.21    ],\n",
              "       [ 1.57    ,  3.8     ],\n",
              "       [ 2.03    ,  4.6     ],\n",
              "       [ 1.32    ,  2.65    ],\n",
              "       [ 1.85    ,  3.4     ],\n",
              "       [ 2.55    ,  2.57    ],\n",
              "       [ 2.26    ,  2.5     ],\n",
              "       [ 2.53    ,  3.9     ],\n",
              "       [ 1.58    ,  2.2     ],\n",
              "       [ 1.59    ,  4.8     ],\n",
              "       [ 2.21    ,  3.05    ],\n",
              "       [ 1.94    ,  2.62    ],\n",
              "       [ 1.69    ,  2.45    ],\n",
              "       [ 1.61    ,  2.6     ],\n",
              "       [ 1.69    ,  2.8     ],\n",
              "       [ 1.59    ,  1.74    ],\n",
              "       [ 1.5     ,  2.4     ],\n",
              "       [ 1.25    ,  3.6     ],\n",
              "       [ 1.46    ,  3.05    ],\n",
              "       [ 2.25    ,  2.15    ],\n",
              "       [ 2.26    ,  3.25    ],\n",
              "       [ 2.27    ,  2.6     ],\n",
              "       [ 0.99    ,  2.5     ],\n",
              "       [ 2.5     ,  2.9     ],\n",
              "       [ 3.75    ,  4.5     ],\n",
              "       [ 2.99    ,  2.3     ],\n",
              "       [ 2.17    ,  3.3     ],\n",
              "       [ 1.36    ,  2.45    ],\n",
              "       [ 2.11    ,  2.8     ],\n",
              "       [ 1.64    ,  2.06    ],\n",
              "       [ 1.92    ,  2.94    ],\n",
              "       [ 1.84    ,  2.7     ],\n",
              "       [ 2.03    ,  3.4     ],\n",
              "       [ 1.76    ,  3.3     ],\n",
              "       [ 2.04    ,  2.7     ],\n",
              "       [ 2.92    ,  2.65    ],\n",
              "       [ 2.58    ,  2.9     ],\n",
              "       [ 2.27    ,  2.      ],\n",
              "       [ 2.03    ,  3.8     ],\n",
              "       [ 2.01    ,  3.08    ],\n",
              "       [ 2.29    ,  2.9     ],\n",
              "       [ 2.17    ,  1.9     ],\n",
              "       [ 1.6     ,  1.95    ],\n",
              "       [ 2.09    ,  2.06    ],\n",
              "       [ 1.25    ,  3.4     ],\n",
              "       [ 1.64    ,  1.28    ],\n",
              "       [ 2.79    ,  3.25    ],\n",
              "       [ 5.08    ,  6.      ],\n",
              "       [ 2.13    ,  2.08    ],\n",
              "       [ 2.65    ,  2.6     ],\n",
              "       [ 3.03    ,  2.8     ],\n",
              "       [ 2.65    ,  2.76    ],\n",
              "       [ 3.15    ,  3.94    ],\n",
              "       [ 2.24    ,  3.      ],\n",
              "       [ 2.45    ,  2.12    ],\n",
              "       [ 1.75    ,  2.6     ],\n",
              "       [ 1.25    ,  4.1     ],\n",
              "       [ 1.22    ,  5.4     ],\n",
              "       [ 1.09    ,  5.7     ],\n",
              "       [ 1.2     ,  5.      ],\n",
              "       [ 0.58    ,  5.45    ],\n",
              "       [ 0.66    ,  7.1     ],\n",
              "       [ 0.47    ,  3.85    ],\n",
              "       [ 0.6     ,  5.      ],\n",
              "       [ 0.48    ,  5.7     ],\n",
              "       [ 0.6     ,  4.92    ],\n",
              "       [ 0.5     ,  4.6     ],\n",
              "       [ 0.5     ,  5.6     ],\n",
              "       [ 0.52    ,  4.35    ],\n",
              "       [ 0.8     ,  4.4     ],\n",
              "       [ 0.78    ,  8.21    ],\n",
              "       [ 0.55    ,  4.      ],\n",
              "       [ 0.34    ,  4.9     ],\n",
              "       [ 0.65    ,  7.65    ],\n",
              "       [ 0.76    ,  8.42    ],\n",
              "       [ 1.39    ,  9.4     ],\n",
              "       [ 1.57    ,  8.6     ],\n",
              "       [ 1.36    , 10.8     ],\n",
              "       [ 1.28    ,  7.1     ],\n",
              "       [ 0.83    , 10.52    ],\n",
              "       [ 0.58    ,  7.6     ],\n",
              "       [ 0.63    ,  7.9     ],\n",
              "       [ 0.83    ,  9.01    ],\n",
              "       [ 0.58    ,  7.5     ],\n",
              "       [ 1.31    , 13.      ],\n",
              "       [ 1.1     , 11.75    ],\n",
              "       [ 0.92    ,  7.65    ],\n",
              "       [ 0.56    ,  5.88    ],\n",
              "       [ 0.6     ,  5.58    ],\n",
              "       [ 0.7     ,  5.28    ],\n",
              "       [ 0.68    ,  9.58    ],\n",
              "       [ 0.47    ,  6.62    ],\n",
              "       [ 0.92    , 10.68    ],\n",
              "       [ 0.66    , 10.26    ],\n",
              "       [ 0.84    ,  8.66    ],\n",
              "       [ 0.96    ,  8.5     ],\n",
              "       [ 0.49    ,  5.5     ],\n",
              "       [ 0.51    ,  9.899999],\n",
              "       [ 0.7     ,  9.7     ],\n",
              "       [ 0.61    ,  7.7     ],\n",
              "       [ 0.75    ,  7.3     ],\n",
              "       [ 0.69    , 10.2     ],\n",
              "       [ 0.68    ,  9.3     ],\n",
              "       [ 0.76    ,  9.2     ]])"
            ]
          },
          "metadata": {},
          "execution_count": 164
        }
      ]
    },
    {
      "cell_type": "markdown",
      "source": [
        "### Plotting the datapoints"
      ],
      "metadata": {
        "id": "WUewKO24E5C9"
      }
    },
    {
      "cell_type": "code",
      "source": [
        "plt.scatter(dataSet[:, 0], dataSet[:, 1], c='yellow', marker='o', edgecolor='black', s=45)         \n",
        "plt.show()"
      ],
      "metadata": {
        "colab": {
          "base_uri": "https://localhost:8080/",
          "height": 265
        },
        "id": "_wZ5gVDl92it",
        "outputId": "808ea298-8cc3-4de4-c15d-201c0730d608"
      },
      "execution_count": 165,
      "outputs": [
        {
          "output_type": "display_data",
          "data": {
            "text/plain": [
              "<Figure size 432x288 with 1 Axes>"
            ],
            "image/png": "[encoded data removed]"
          },
          "metadata": {
            "needs_background": "light"
          }
        }
      ]
    },
    {
      "cell_type": "markdown",
      "source": [
        "## Build a DBSCAN model"
      ],
      "metadata": {
        "id": "y_tYvI8aCR4g"
      }
    },
    {
      "cell_type": "markdown",
      "source": [
        "***Building the DBSCAN model with epsilon as 0.6 and min_samples as 5***"
      ],
      "metadata": {
        "id": "_NRCzYJoSlUB"
      }
    },
    {
      "cell_type": "code",
      "source": [
        "model = DBSCAN(eps=0.6,min_samples=5)          "
      ],
      "metadata": {
        "id": "b7Pufyp3CU0m"
      },
      "execution_count": 166,
      "outputs": []
    },
    {
      "cell_type": "markdown",
      "source": [
        "## Training the DBSCAN model"
      ],
      "metadata": {
        "id": "5aUTYmQ_CXOe"
      }
    },
    {
      "cell_type": "code",
      "source": [
        "model.fit(dataSet)                               # Training the model"
      ],
      "metadata": {
        "colab": {
          "base_uri": "https://localhost:8080/"
        },
        "id": "wB-XeBgP-UqE",
        "outputId": "a9f15ae6-841d-4938-a699-c8df0bccdb3d"
      },
      "execution_count": 167,
      "outputs": [
        {
          "output_type": "execute_result",
          "data": {
            "text/plain": [
              "DBSCAN(eps=0.6)"
            ]
          },
          "metadata": {},
          "execution_count": 167
        }
      ]
    },
    {
      "cell_type": "code",
      "source": [
        "labels = model.labels_                           # Getting the labels"
      ],
      "metadata": {
        "id": "ckaIjeN4TcpO"
      },
      "execution_count": 168,
      "outputs": []
    },
    {
      "cell_type": "code",
      "source": [
        "labels"
      ],
      "metadata": {
        "colab": {
          "base_uri": "https://localhost:8080/"
        },
        "id": "wiZfaWJ4-hhE",
        "outputId": "f71dfda4-f294-4a6e-c11d-a63f7ebd398e"
      },
      "execution_count": 169,
      "outputs": [
        {
          "output_type": "execute_result",
          "data": {
            "text/plain": [
              "array([ 0,  0,  0,  0,  0,  0,  0,  0,  0,  0,  0,  0,  0,  0,  0,  0,  0,\n",
              "        0, -1,  0,  0,  0,  0,  0,  0,  0,  0,  0,  0,  0,  0,  0,  0,  0,\n",
              "        0,  0,  0,  0,  0,  0,  0,  0,  0,  0,  0,  0,  0,  0,  0, -1,  0,\n",
              "        0,  0,  0,  0,  0,  0,  0,  0, -1,  0,  1,  0,  0,  0,  0,  0,  0,\n",
              "        0,  0,  0,  0,  0,  0,  0,  0,  0,  0,  0,  0,  0,  0,  0,  0,  0,\n",
              "        0,  0,  0,  0,  0,  0,  0,  0,  0,  0,  0,  0,  0, -1,  0,  0,  0,\n",
              "        0,  0,  0,  0,  0,  0,  0,  0,  0,  0,  0,  0,  0,  0,  0,  0,  0,\n",
              "        0,  0, -1,  0,  0,  0,  0,  0,  0,  0,  0,  0,  1,  1,  1,  1,  2,\n",
              "        1,  1,  1,  1,  1,  1,  1,  1,  2,  1,  1,  2,  2, -1, -1,  2,  2,\n",
              "        2,  2,  2,  2,  2, -1, -1,  2,  1,  1,  1,  2,  2,  2,  2,  2,  2,\n",
              "        1,  2,  2,  2,  2,  2,  2,  2])"
            ]
          },
          "metadata": {},
          "execution_count": 169
        }
      ]
    },
    {
      "cell_type": "markdown",
      "source": [
        "## Plotting the datapoints as labelled by the DBSCAN model"
      ],
      "metadata": {
        "id": "jAJmqmuBDPwT"
      }
    },
    {
      "cell_type": "code",
      "source": [
        "colors = [\"brown\",\"green\",\"orange\",\"red\",\"yellow\",\"violet\",\"cyan\",\"pink\"]     # Colormap for plotting the labels\n",
        "\n",
        "for i in range(len(dataSet)):                                                \n",
        "  c = colors[labels[i]]                                                       # Fetching a color for each data point  \n",
        "  if(labels[i]==-1):                                                          # If the label is -1, then it is an outlier\n",
        "    c='black'                                                                 # Giving the outlier black color\n",
        "  plt.scatter(dataSet[i][0], dataSet[i][1], marker=\"o\", color=c, s=45)\n",
        "plt.show()"
      ],
      "metadata": {
        "colab": {
          "base_uri": "https://localhost:8080/",
          "height": 265
        },
        "id": "xaAbWhVp_CwJ",
        "outputId": "dec7f7c0-fcb2-4c8c-c60c-ab4a902aef38"
      },
      "execution_count": 170,
      "outputs": [
        {
          "output_type": "display_data",
          "data": {
            "text/plain": [
              "<Figure size 432x288 with 1 Axes>"
            ],
            "image/png": "[encoded data removed]"
          },
          "metadata": {
            "needs_background": "light"
          }
        }
      ]
    },
    {
      "cell_type": "code",
      "source": [
        ""
      ],
      "metadata": {
        "id": "WnTt_5UUTUXm"
      },
      "execution_count": 170,
      "outputs": []
    }
  ]
}