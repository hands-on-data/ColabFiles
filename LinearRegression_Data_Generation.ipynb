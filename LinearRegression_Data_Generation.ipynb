{
  "nbformat": 4,
  "nbformat_minor": 0,
  "metadata": {
    "colab": {
      "name": "LinearRegression_Data_Generation.ipynb",
      "provenance": [],
      "collapsed_sections": []
    },
    "kernelspec": {
      "name": "python3",
      "display_name": "Python 3"
    },
    "language_info": {
      "name": "python"
    }
  },
  "cells": [
    {
      "cell_type": "code",
      "metadata": {
        "id": "7rmSnZmR9Uv8"
      },
      "source": [
        "from google.colab import drive"
      ],
      "execution_count": 93,
      "outputs": []
    },
    {
      "cell_type": "code",
      "metadata": {
        "colab": {
          "base_uri": "https://localhost:8080/"
        },
        "id": "bL8zrTsPBHwE",
        "outputId": "c92238ba-5344-44de-82ff-b5aafea21948"
      },
      "source": [
        "drive.mount('/content/gdrive')"
      ],
      "execution_count": 94,
      "outputs": [
        {
          "output_type": "stream",
          "name": "stdout",
          "text": [
            "Drive already mounted at /content/gdrive; to attempt to forcibly remount, call drive.mount(\"/content/gdrive\", force_remount=True).\n"
          ]
        }
      ]
    },
    {
      "cell_type": "code",
      "metadata": {
        "id": "5IsBdaCkAuN1"
      },
      "source": [
        "root_path='gdrive/MyDrive/LinearRegression/dataset'"
      ],
      "execution_count": 95,
      "outputs": []
    },
    {
      "cell_type": "code",
      "metadata": {
        "colab": {
          "base_uri": "https://localhost:8080/"
        },
        "id": "CjUMQSdj-iZL",
        "outputId": "da28d182-0070-4cc7-ee2e-ed7d9fb44180"
      },
      "source": [
        "!gdown --id 1xlJ0QiI22OSpbPKPWqTy5QeHP0_-KQUM"
      ],
      "execution_count": 96,
      "outputs": [
        {
          "output_type": "stream",
          "name": "stdout",
          "text": [
            "Downloading...\n",
            "From: https://drive.google.com/uc?id=1xlJ0QiI22OSpbPKPWqTy5QeHP0_-KQUM\n",
            "To: /content/housing_dataset.zip\n",
            "\r  0% 0.00/409k [00:00<?, ?B/s]\r100% 409k/409k [00:00<00:00, 6.39MB/s]\n"
          ]
        }
      ]
    },
    {
      "cell_type": "code",
      "metadata": {
        "id": "dAdYJ4un-kVz"
      },
      "source": [
        "import zipfile                                             #Extracting zipfile\n",
        "with zipfile.ZipFile(\"/content/housing_dataset.zip\",\"r\") as zip_ref:\n",
        "    zip_ref.extractall(\"/content\")\n",
        "\n",
        "\n",
        "!cp /content/housing.csv \"gdrive/MyDrive\""
      ],
      "execution_count": 97,
      "outputs": []
    }
  ]
}